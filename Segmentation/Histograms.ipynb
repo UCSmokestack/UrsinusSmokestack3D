{
 "cells": [
  {
   "cell_type": "code",
   "execution_count": 1,
   "id": "3b513c95",
   "metadata": {},
   "outputs": [],
   "source": [
    "import matplotlib.pyplot as plt\n",
    "from skimage import data\n",
    "from skimage import io\n",
    "from skimage import exposure\n",
    "from skimage.exposure import match_histograms\n",
    "from skimage.color import rgb2gray\n",
    "import numpy as np\n",
    "import glob\n",
    "import time\n",
    "from scipy.signal import fftconvolve\n",
    "from scipy import ndimage"
   ]
  },
  {
   "cell_type": "code",
   "execution_count": 2,
   "id": "23550992",
   "metadata": {},
   "outputs": [
    {
     "name": "stdout",
     "output_type": "stream",
     "text": [
      "......................................."
     ]
    }
   ],
   "source": [
    "def clean_mask(Mask, K):\n",
    "    \"\"\"\n",
    "    Try to fill in gaps in the mask, and take only the largest connected\n",
    "    component\n",
    "    \n",
    "    Parameters\n",
    "    ----------\n",
    "    mask: ndarray(M, N)\n",
    "        Mask of booleans\n",
    "    K: int\n",
    "        Window in which to filter\n",
    "    \"\"\"\n",
    "    Y2 = fftconvolve(Mask, np.ones((K, K)), mode='same')/K**2\n",
    "    Mask = Y2 > 1/K**2\n",
    "    ILabel, NLabels = ndimage.label(Mask)\n",
    "    idx = np.argmax(ndimage.sum(Mask, ILabel, range(NLabels+1)))\n",
    "    return ILabel == idx\n",
    "\n",
    "def get_all_ref_images():\n",
    "    I = np.array([])\n",
    "    for f in glob.glob(\"Drone/DroneFramesCropped/Stills/*.JPG\"):\n",
    "        print(\".\", end='')\n",
    "        IFull = io.imread(\"Drone/10.01.2020/{}\".format(f.split(\"/\")[-1]))\n",
    "        IFull = rgb2gray(IFull)\n",
    "        ICrop = io.imread(f)\n",
    "        ICrop = rgb2gray(ICrop)\n",
    "        Mask = clean_mask(IFull == ICrop, 20)\n",
    "        I = np.concatenate((I, IFull[Mask]))\n",
    "    return I\n",
    "\n",
    "IMatch = get_all_ref_images()"
   ]
  },
  {
   "cell_type": "code",
   "execution_count": 3,
   "id": "4ef18c9f",
   "metadata": {},
   "outputs": [],
   "source": [
    "np.random.shuffle(IMatch)"
   ]
  },
  {
   "cell_type": "code",
   "execution_count": 5,
   "id": "30640e7f",
   "metadata": {},
   "outputs": [
    {
     "name": "stdout",
     "output_type": "stream",
     "text": [
      "."
     ]
    },
    {
     "name": "stderr",
     "output_type": "stream",
     "text": [
      "Lossy conversion from float64 to uint8. Range [0, 1]. Convert image to uint8 prior to saving to suppress this warning.\n"
     ]
    },
    {
     "name": "stdout",
     "output_type": "stream",
     "text": [
      "."
     ]
    },
    {
     "name": "stderr",
     "output_type": "stream",
     "text": [
      "Lossy conversion from float64 to uint8. Range [0, 1]. Convert image to uint8 prior to saving to suppress this warning.\n"
     ]
    },
    {
     "name": "stdout",
     "output_type": "stream",
     "text": [
      "."
     ]
    },
    {
     "name": "stderr",
     "output_type": "stream",
     "text": [
      "Lossy conversion from float64 to uint8. Range [0, 1]. Convert image to uint8 prior to saving to suppress this warning.\n"
     ]
    },
    {
     "name": "stdout",
     "output_type": "stream",
     "text": [
      "."
     ]
    },
    {
     "name": "stderr",
     "output_type": "stream",
     "text": [
      "Lossy conversion from float64 to uint8. Range [0, 1]. Convert image to uint8 prior to saving to suppress this warning.\n"
     ]
    },
    {
     "name": "stdout",
     "output_type": "stream",
     "text": [
      "."
     ]
    },
    {
     "name": "stderr",
     "output_type": "stream",
     "text": [
      "Lossy conversion from float64 to uint8. Range [0, 1]. Convert image to uint8 prior to saving to suppress this warning.\n"
     ]
    },
    {
     "name": "stdout",
     "output_type": "stream",
     "text": [
      "."
     ]
    },
    {
     "name": "stderr",
     "output_type": "stream",
     "text": [
      "Lossy conversion from float64 to uint8. Range [0, 1]. Convert image to uint8 prior to saving to suppress this warning.\n"
     ]
    },
    {
     "name": "stdout",
     "output_type": "stream",
     "text": [
      "."
     ]
    },
    {
     "name": "stderr",
     "output_type": "stream",
     "text": [
      "Lossy conversion from float64 to uint8. Range [0, 1]. Convert image to uint8 prior to saving to suppress this warning.\n"
     ]
    },
    {
     "name": "stdout",
     "output_type": "stream",
     "text": [
      "."
     ]
    },
    {
     "name": "stderr",
     "output_type": "stream",
     "text": [
      "Lossy conversion from float64 to uint8. Range [0, 1]. Convert image to uint8 prior to saving to suppress this warning.\n"
     ]
    },
    {
     "name": "stdout",
     "output_type": "stream",
     "text": [
      "."
     ]
    },
    {
     "name": "stderr",
     "output_type": "stream",
     "text": [
      "Lossy conversion from float64 to uint8. Range [0, 1]. Convert image to uint8 prior to saving to suppress this warning.\n"
     ]
    },
    {
     "name": "stdout",
     "output_type": "stream",
     "text": [
      "."
     ]
    },
    {
     "name": "stderr",
     "output_type": "stream",
     "text": [
      "Lossy conversion from float64 to uint8. Range [0, 1]. Convert image to uint8 prior to saving to suppress this warning.\n"
     ]
    },
    {
     "name": "stdout",
     "output_type": "stream",
     "text": [
      "."
     ]
    },
    {
     "name": "stderr",
     "output_type": "stream",
     "text": [
      "Lossy conversion from float64 to uint8. Range [0, 1]. Convert image to uint8 prior to saving to suppress this warning.\n"
     ]
    },
    {
     "name": "stdout",
     "output_type": "stream",
     "text": [
      "."
     ]
    },
    {
     "name": "stderr",
     "output_type": "stream",
     "text": [
      "Lossy conversion from float64 to uint8. Range [0, 1]. Convert image to uint8 prior to saving to suppress this warning.\n"
     ]
    },
    {
     "name": "stdout",
     "output_type": "stream",
     "text": [
      "."
     ]
    },
    {
     "name": "stderr",
     "output_type": "stream",
     "text": [
      "Lossy conversion from float64 to uint8. Range [0, 1]. Convert image to uint8 prior to saving to suppress this warning.\n"
     ]
    },
    {
     "name": "stdout",
     "output_type": "stream",
     "text": [
      "."
     ]
    },
    {
     "name": "stderr",
     "output_type": "stream",
     "text": [
      "Lossy conversion from float64 to uint8. Range [0, 1]. Convert image to uint8 prior to saving to suppress this warning.\n"
     ]
    }
   ],
   "source": [
    "from skimage import exposure\n",
    "\n",
    "for f in glob.glob(\"Drone/DroneFramesCropped/HipserVideo/*.png\"):\n",
    "    print(\".\", end=\"\")\n",
    "    prefix = f.split(\"/\")[-1]\n",
    "    ICrop = io.imread(f)[:, :, 0:3]\n",
    "    ICrop = rgb2gray(ICrop)\n",
    "    IFull = io.imread(\"Drone/FramesHipser/{}\".format(prefix))\n",
    "    IFull = rgb2gray(IFull)\n",
    "\n",
    "    Mask = clean_mask(IFull == ICrop, 20)\n",
    "    IToChange = ICrop[Mask]\n",
    "    IToChange = match_histograms(IToChange, IMatch[0:int(IMatch.size*0.1)])\n",
    "    #IToChange = exposure.equalize_adapthist(IToChange, clip_limit=0.03)\n",
    "    ICrop[Mask] = IToChange\n",
    "    \n",
    "    \n",
    "\n",
    "    io.imsave(\"Drone/DroneFramesCropped/HipserVideoHist/{}\".format(prefix), ICrop)"
   ]
  },
  {
   "cell_type": "code",
   "execution_count": null,
   "id": "744d067e",
   "metadata": {},
   "outputs": [],
   "source": []
  }
 ],
 "metadata": {
  "kernelspec": {
   "display_name": "Python 3",
   "language": "python",
   "name": "python3"
  },
  "language_info": {
   "codemirror_mode": {
    "name": "ipython",
    "version": 3
   },
   "file_extension": ".py",
   "mimetype": "text/x-python",
   "name": "python",
   "nbconvert_exporter": "python",
   "pygments_lexer": "ipython3",
   "version": "3.8.8"
  }
 },
 "nbformat": 4,
 "nbformat_minor": 5
}
